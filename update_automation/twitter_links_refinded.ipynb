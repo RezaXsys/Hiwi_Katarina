{
 "cells": [
  {
   "cell_type": "markdown",
   "metadata": {},
   "source": [
    "# Verbessertes Link-Replacement "
   ]
  },
  {
   "cell_type": "markdown",
   "metadata": {
    "vscode": {
     "languageId": "plaintext"
    }
   },
   "source": [
    "### Schritte \n",
    "\n",
    "1. JSON DATEI laden: \n",
    "    * datei lesen und Liste Verarbeiten\n",
    "2. Überprüfung der Hauptlinks:\n",
    "    * jeder Eintrag in der Liste wird überprüft \n",
    "    * wenn der link nicht funktioniert, wird ein Erstaz aus der Liste genommen, wenn dieser funktioniert als neuer Hauptlink eingetragen. \n",
    "    * Funktioniert kein alternativer Link, bleibt der Eintrag ohne Hauptlink, und das Problem wird geloggt.\n",
    "3. Fallback-Logik:\n",
    "    *  Der erste funktionierende Link aus der Liste alternatives ersetzt den Eintrag in main\n",
    "    *  Funktioniert kein alternativer Link, bleibt der Eintrag ohne Hauptlink, und das Problem wird geloggt\n",
    "4. JSON-Datei aktualisieren: \n",
    "    * Nach der Überprüfung wird die Datei mit den aktualisierten Links überschrieben.\n",
    "5. Statistik und Logging:\n",
    "    * Protokolliert die Anzahl der überprüften Links, ersetzten Hauptlinks und fehlerhaften Links.\n",
    "    "
   ]
  },
  {
   "cell_type": "code",
   "execution_count": null,
   "metadata": {},
   "outputs": [],
   "source": [
    "# Example JSON-Datei \n",
    "# additional infromaton can be added \n",
    "[\n",
    "    {\n",
    "        \"main\": \"https://twitter.com/example/image1.jpg\",\n",
    "        \"alternatives\": [\n",
    "            \"https://backup.com/image1.jpg\",\n",
    "            \"https://anotherbackup.com/image1.jpg\"\n",
    "        ]\n",
    "    },\n",
    "    {\n",
    "        \"main\": \"https://twitter.com/example/image2.jpg\",\n",
    "        \"alternatives\": [\n",
    "            \"https://backup.com/image2.jpg\"\n",
    "        ]\n",
    "    }\n",
    "]\n"
   ]
  },
  {
   "cell_type": "markdown",
   "metadata": {},
   "source": [
    "### Regelmäßige Ausführung \n",
    "* using Cronejobs \n",
    "\n",
    "* Beispiel: 0 0 1 * * /usr/bin/python3 /path/to/script.py\n"
   ]
  },
  {
   "cell_type": "markdown",
   "metadata": {},
   "source": [
    "### CODE "
   ]
  },
  {
   "cell_type": "code",
   "execution_count": 8,
   "metadata": {},
   "outputs": [],
   "source": [
    "import json\n",
    "import requests\n",
    "import logging\n",
    "from datetime import datetime"
   ]
  },
  {
   "cell_type": "code",
   "execution_count": 9,
   "metadata": {},
   "outputs": [],
   "source": [
    "# Logging konfigurieren\n",
    "logging.basicConfig(filename=\"link_check.log\", level=logging.INFO, format=\"%(asctime)s - %(message)s\")\n",
    "\n",
    "# Pfad zur JSON-Datei\n",
    "JSON_FILE = \"image_links.json\""
   ]
  },
  {
   "cell_type": "code",
   "execution_count": 10,
   "metadata": {},
   "outputs": [],
   "source": [
    "def load_json(file_path):\n",
    "    #Lädt die JSON-Datei\n",
    "    with open(file_path, \"r\", encoding=\"utf-8\") as f:\n",
    "        return json.load(f)"
   ]
  },
  {
   "cell_type": "code",
   "execution_count": 11,
   "metadata": {},
   "outputs": [],
   "source": [
    "def save_json(data, file_path):\n",
    "    #Speichert die aktualisierte JSON-Datei\n",
    "    with open(file_path, \"w\", encoding=\"utf-8\") as f:\n",
    "        json.dump(data, f, indent=4, ensure_ascii=False)\n"
   ]
  },
  {
   "cell_type": "code",
   "execution_count": 12,
   "metadata": {},
   "outputs": [],
   "source": [
    "def check_link(url):\n",
    "    #Überprüft, ob ein Link erreichbar ist\n",
    "    try:\n",
    "        response = requests.head(url, timeout=5)\n",
    "        return response.status_code == 200\n",
    "    except requests.RequestException:\n",
    "        return False\n"
   ]
  },
  {
   "cell_type": "code",
   "execution_count": 13,
   "metadata": {},
   "outputs": [],
   "source": [
    "def process_links(data):\n",
    "    #Überprüft und ersetzt ungültige Links\n",
    "    replaced = 0\n",
    "    broken = 0\n",
    "\n",
    "    for entry in data:\n",
    "        main_link = entry[\"main\"]\n",
    "        alternatives = entry.get(\"alternatives\", [])\n",
    "\n",
    "        if not check_link(main_link):\n",
    "            logging.info(f\"Ungültiger Hauptlink: {main_link}\")\n",
    "            found_replacement = False\n",
    "\n",
    "            # Suche nach einer funktionierenden Alternative\n",
    "            for alt in alternatives:\n",
    "                if check_link(alt):\n",
    "                    logging.info(f\"Ersetze {main_link} durch Alternative {alt}\")\n",
    "                    entry[\"main\"] = alt\n",
    "                    replaced += 1\n",
    "                    found_replacement = True\n",
    "                    break\n",
    "            \n",
    "            if not found_replacement:\n",
    "                logging.warning(f\"Kein Ersatz gefunden für {main_link}\")\n",
    "                broken += 1\n",
    "\n",
    "    return replaced, broken"
   ]
  },
  {
   "cell_type": "code",
   "execution_count": null,
   "metadata": {},
   "outputs": [],
   "source": [
    "# alternative: for item in data:\n",
    "        main_link = item['main']\n",
    "        alternatives = item['alternatives']\n",
    "\n",
    "        valid_alternatives = validate_links(alternatives)\n",
    "        \n",
    "        if valid_alternatives:\n",
    "            updated_data.append({\n",
    "                \"main\": main_link,\n",
    "                \"alternatives\": valid_alternatives\n",
    "            })\n",
    "            replaced_count += 1\n",
    "        else:\n",
    "            print(f\"Kein Ersatz gefunden für {main_link}\")\n",
    "            invalid_count += 1\n",
    "\n",
    "    with open(file_path, 'w') as file:\n",
    "        json.dump(updated_data, file, indent=4)\n",
    "\n",
    "    print(f\"Überprüfung abgeschlossen: {replaced_count} ersetzt, {invalid_count} ungültig.\")\n"
   ]
  },
  {
   "cell_type": "code",
   "execution_count": 14,
   "metadata": {},
   "outputs": [
    {
     "ename": "FileNotFoundError",
     "evalue": "[Errno 2] No such file or directory: 'update_automation/image_links.json'",
     "output_type": "error",
     "traceback": [
      "\u001b[0;31m---------------------------------------------------------------------------\u001b[0m",
      "\u001b[0;31mFileNotFoundError\u001b[0m                         Traceback (most recent call last)",
      "\u001b[0;32m/var/folders/vk/m4mvvjw97z740q4bfjr898nm0000gn/T/ipykernel_95398/1081528085.py\u001b[0m in \u001b[0;36m<module>\u001b[0;34m\u001b[0m\n\u001b[1;32m      1\u001b[0m \u001b[0;32mif\u001b[0m \u001b[0m__name__\u001b[0m \u001b[0;34m==\u001b[0m \u001b[0;34m\"__main__\"\u001b[0m\u001b[0;34m:\u001b[0m\u001b[0;34m\u001b[0m\u001b[0;34m\u001b[0m\u001b[0m\n\u001b[1;32m      2\u001b[0m     \u001b[0;31m# Schritt 1: JSON-Datei laden\u001b[0m\u001b[0;34m\u001b[0m\u001b[0;34m\u001b[0m\u001b[0m\n\u001b[0;32m----> 3\u001b[0;31m     \u001b[0mlinks_data\u001b[0m \u001b[0;34m=\u001b[0m \u001b[0mload_json\u001b[0m\u001b[0;34m(\u001b[0m\u001b[0mJSON_FILE\u001b[0m\u001b[0;34m)\u001b[0m\u001b[0;34m\u001b[0m\u001b[0;34m\u001b[0m\u001b[0m\n\u001b[0m\u001b[1;32m      4\u001b[0m \u001b[0;34m\u001b[0m\u001b[0m\n\u001b[1;32m      5\u001b[0m     \u001b[0;31m# Schritt 2: Links überprüfen und ersetzen\u001b[0m\u001b[0;34m\u001b[0m\u001b[0;34m\u001b[0m\u001b[0m\n",
      "\u001b[0;32m/var/folders/vk/m4mvvjw97z740q4bfjr898nm0000gn/T/ipykernel_95398/1672960967.py\u001b[0m in \u001b[0;36mload_json\u001b[0;34m(file_path)\u001b[0m\n\u001b[1;32m      1\u001b[0m \u001b[0;32mdef\u001b[0m \u001b[0mload_json\u001b[0m\u001b[0;34m(\u001b[0m\u001b[0mfile_path\u001b[0m\u001b[0;34m)\u001b[0m\u001b[0;34m:\u001b[0m\u001b[0;34m\u001b[0m\u001b[0;34m\u001b[0m\u001b[0m\n\u001b[1;32m      2\u001b[0m     \u001b[0;34m\"\"\"Lädt die JSON-Datei.\"\"\"\u001b[0m\u001b[0;34m\u001b[0m\u001b[0;34m\u001b[0m\u001b[0m\n\u001b[0;32m----> 3\u001b[0;31m     \u001b[0;32mwith\u001b[0m \u001b[0mopen\u001b[0m\u001b[0;34m(\u001b[0m\u001b[0mfile_path\u001b[0m\u001b[0;34m,\u001b[0m \u001b[0;34m\"r\"\u001b[0m\u001b[0;34m,\u001b[0m \u001b[0mencoding\u001b[0m\u001b[0;34m=\u001b[0m\u001b[0;34m\"utf-8\"\u001b[0m\u001b[0;34m)\u001b[0m \u001b[0;32mas\u001b[0m \u001b[0mf\u001b[0m\u001b[0;34m:\u001b[0m\u001b[0;34m\u001b[0m\u001b[0;34m\u001b[0m\u001b[0m\n\u001b[0m\u001b[1;32m      4\u001b[0m         \u001b[0;32mreturn\u001b[0m \u001b[0mjson\u001b[0m\u001b[0;34m.\u001b[0m\u001b[0mload\u001b[0m\u001b[0;34m(\u001b[0m\u001b[0mf\u001b[0m\u001b[0;34m)\u001b[0m\u001b[0;34m\u001b[0m\u001b[0;34m\u001b[0m\u001b[0m\n",
      "\u001b[0;31mFileNotFoundError\u001b[0m: [Errno 2] No such file or directory: 'update_automation/image_links.json'"
     ]
    }
   ],
   "source": [
    "if __name__ == \"__main__\":\n",
    "    # Schritt 1: JSON-Datei laden\n",
    "    links_data = load_json(JSON_FILE)\n",
    "    \n",
    "    # Schritt 2: Links überprüfen und ersetzen\n",
    "    replaced_count, broken_count = process_links(links_data)\n",
    "    \n",
    "    # Schritt 3: JSON-Datei aktualisieren\n",
    "    save_json(links_data, JSON_FILE)\n",
    "    \n",
    "    # Schritt 4: Statistik ausgeben\n",
    "    logging.info(f\"Überprüfung abgeschlossen: {replaced_count} ersetzt, {broken_count} ungültig.\")\n",
    "    print(f\"Überprüfung abgeschlossen: {replaced_count} ersetzt, {broken_count} ungültig.\")"
   ]
  },
  {
   "cell_type": "markdown",
   "metadata": {},
   "source": [
    "### Was ist Cronjobs: Infos and Overview"
   ]
  },
  {
   "cell_type": "markdown",
   "metadata": {},
   "source": [
    "1. Def: zeitgesteuerte Aufgaben, die auf Unix- oder Linux-Systemen mithilfe des Dienstprogramme cron ausgeführt werden. Ermöglicht Programme, Skripte oder Befehle automatisch zu vorgegebenen Zeiten oder n regelmäßigen Intervallen auszuführen.\n",
    "\n",
    "2. Anwendungsbeispiele: \n",
    "    * Regelmäßige Sicherungen, Automatsiches Updates, Dateiüberwachung, Berichte erstellen, Skripte ausführen \n",
    "\n"
   ]
  },
  {
   "cell_type": "markdown",
   "metadata": {},
   "source": [
    "####  HOW TO \n",
    "\n",
    "1. Grundlegender Aufbau einer Crontab-Zeile\n",
    "    + * * * * * /pfad/zum/befehl\n",
    "    + Minute Stunde Tag Monat Wochentag / 0-59 0-23 1-31 1-12 0-7\n",
    "    \n",
    "\n"
   ]
  },
  {
   "cell_type": "code",
   "execution_count": null,
   "metadata": {},
   "outputs": [],
   "source": [
    "# täglich um Mitternacht \n",
    "# 0 0 * * * /usr/bin/python3 /home/user/script.py\n",
    "# jede Stunde \n",
    "# 0 * * * * /usr/bin/python3 /home/user/script.py\n",
    "# alle 10 minuten \n",
    "# */10 * * * * /usr/bin/python3 /home/user/script.py\n",
    "# montags um 09:00 Uhr \n",
    "# 0 9 * * 1 /usr/bin/python3 /home/user/script.py\n"
   ]
  },
  {
   "cell_type": "markdown",
   "metadata": {},
   "source": [
    "### Verwaltung \n",
    "\n",
    "* Cronejobs anzeigen = crontab -1 aktueller Benutzer \n",
    "* Cronjobs bebarbeiten = crontab -e Crontab-Datei bearbieten und neue Cronjobs hinzufügen \n",
    "* Cronejobs entfernen = einzelne einträge können durch köschen der Zeile in crontab -e entfernt werden \n",
    "* starten und überprüfen:\n",
    "    * sudo service cron start\n",
    "    * sudo service cron status\n"
   ]
  }
 ],
 "metadata": {
  "kernelspec": {
   "display_name": "hiwi_env",
   "language": "python",
   "name": "python3"
  },
  "language_info": {
   "codemirror_mode": {
    "name": "ipython",
    "version": 3
   },
   "file_extension": ".py",
   "mimetype": "text/x-python",
   "name": "python",
   "nbconvert_exporter": "python",
   "pygments_lexer": "ipython3",
   "version": "3.9.13"
  }
 },
 "nbformat": 4,
 "nbformat_minor": 2
}
