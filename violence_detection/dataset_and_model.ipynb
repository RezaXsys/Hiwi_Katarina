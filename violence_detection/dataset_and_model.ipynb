{
 "cells": [
  {
   "cell_type": "markdown",
   "metadata": {},
   "source": [
    "# COCO and YOLOv8"
   ]
  },
  {
   "cell_type": "code",
   "execution_count": null,
   "metadata": {},
   "outputs": [],
   "source": [
    "model = YOLO(\"yolov8.pt\")  # Laden des vortrainierten Modells\n",
    "results = model.predict(\"image.jpg\", classes=[0, 2])  # Erkennung von Menschen (0) und Autos (2)\n"
   ]
  },
  {
   "cell_type": "markdown",
   "metadata": {},
   "source": [
    "### 1. Verwendung eines vortrainierten Modells \n",
    "\n",
    "Coco zwar gut wenn man vortrainiert haben will, aber in den 80 definierten Wörter sind leider keine Waffen enthalten."
   ]
  },
  {
   "cell_type": "markdown",
   "metadata": {},
   "source": [
    "### 2. Training auf einem benutzerdefinierten Datensatz \n"
   ]
  }
 ],
 "metadata": {
  "language_info": {
   "name": "python"
  }
 },
 "nbformat": 4,
 "nbformat_minor": 2
}
