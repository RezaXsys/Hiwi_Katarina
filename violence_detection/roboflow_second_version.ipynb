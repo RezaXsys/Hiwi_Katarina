{
 "cells": [
  {
   "cell_type": "markdown",
   "metadata": {},
   "source": [
    "# ROBOFLOW SECOND VERSION "
   ]
  },
  {
   "cell_type": "code",
   "execution_count": 1,
   "metadata": {},
   "outputs": [],
   "source": [
    "import os\n",
    "import json\n",
    "import shutil\n",
    "import requests\n",
    "\n",
    "# Constants for API and directories\n",
    "API_URL = \"https://detect.roboflow.com\"\n",
    "API_KEY = \"QZ9pAmqgTUAXMUXi7tO3\"\n",
    "MODEL_ID = \"weapon-detection2-yyiij-acspc/1\""
   ]
  },
  {
   "cell_type": "code",
   "execution_count": 7,
   "metadata": {},
   "outputs": [],
   "source": [
    "# Folder paths\n",
    "image_folder = \"/Users/apple/Downloads/01_January\"\n",
    "output_json = \"weapon_classification_results.json\"\n",
    "classified_images_folder = \"/Users/apple/Downloads/Deteced-images2\""
   ]
  },
  {
   "cell_type": "code",
   "execution_count": 8,
   "metadata": {},
   "outputs": [],
   "source": [
    "def setup_directories():\n",
    "    \"\"\"\n",
    "    Ensure the output directory for classified images exists.\n",
    "    \"\"\"\n",
    "    os.makedirs(classified_images_folder, exist_ok=True)\n"
   ]
  },
  {
   "cell_type": "code",
   "execution_count": 4,
   "metadata": {},
   "outputs": [],
   "source": [
    "def get_images(folder):\n",
    "    \"\"\"\n",
    "    List all .jpg images in the specified folder.\n",
    "\n",
    "    Args:\n",
    "        folder (str): Path to the folder containing images.\n",
    "\n",
    "    Returns:\n",
    "        list: List of image file paths.\n",
    "    \"\"\"\n",
    "    return [os.path.join(folder, img) for img in os.listdir(folder) if img.endswith(\".jpg\")]\n"
   ]
  },
  {
   "cell_type": "code",
   "execution_count": 9,
   "metadata": {},
   "outputs": [],
   "source": [
    "def infer_image(image_path):\n",
    "    \"\"\"\n",
    "    Perform inference on a single image using the Roboflow API.\n",
    "\n",
    "    Args:\n",
    "        image_path (str): Path to the image file.\n",
    "\n",
    "    Returns:\n",
    "        dict: The response JSON from the API, or None if an error occurred.\n",
    "    \"\"\"\n",
    "    try:\n",
    "        with open(image_path, \"rb\") as image_file:\n",
    "            response = requests.post(\n",
    "                f\"{API_URL}/{MODEL_ID}\",\n",
    "                params={\"api_key\": API_KEY},\n",
    "                files={\"file\": image_file}\n",
    "            )\n",
    "            if response.status_code == 200:\n",
    "                return response.json()\n",
    "            else:\n",
    "                print(f\"Error for {os.path.basename(image_path)}: {response.status_code} - {response.text}\")\n",
    "                return None\n",
    "    except Exception as e:\n",
    "        print(f\"Error processing {os.path.basename(image_path)}: {e}\")\n",
    "        return None"
   ]
  },
  {
   "cell_type": "code",
   "execution_count": 10,
   "metadata": {},
   "outputs": [],
   "source": [
    "def save_intermediate_results(results, summary):\n",
    "    \"\"\"\n",
    "    Save intermediate results and summary to the JSON file.\n",
    "\n",
    "    Args:\n",
    "        results (list): List of classification results.\n",
    "        summary (dict): Summary of classifications.\n",
    "    \"\"\"\n",
    "    with open(output_json, \"w\") as json_file:\n",
    "        json.dump({\"results\": results, \"summary\": summary}, json_file, indent=4)\n",
    "    print(f\"Intermediate results saved to {output_json}\")\n"
   ]
  },
  {
   "cell_type": "code",
   "execution_count": 11,
   "metadata": {},
   "outputs": [],
   "source": [
    "def process_images(images, save_interval=1000):\n",
    "    \"\"\"\n",
    "    Process images in chunks, with a pause after processing a defined number of images.\n",
    "\n",
    "    Args:\n",
    "        images (list): List of image file paths.\n",
    "        save_interval (int): Number of images to process before saving and pausing.\n",
    "\n",
    "    Returns:\n",
    "        tuple: List of results and classification summary.\n",
    "    \"\"\"\n",
    "    results = []\n",
    "    summary = {}\n",
    "    total_images = len(images)\n",
    "\n",
    "    for index, image_path in enumerate(images, start=1):\n",
    "        result = infer_image(image_path)\n",
    "        if result:\n",
    "            predictions = result.get(\"predictions\", [])\n",
    "            weapon_classes = [\n",
    "                pred[\"class\"] for pred in predictions if pred[\"confidence\"] >= 0.5\n",
    "            ]\n",
    "            if weapon_classes:\n",
    "                # Append results\n",
    "                results.append({\n",
    "                    \"image_name\": os.path.basename(image_path),\n",
    "                    \"classes\": weapon_classes\n",
    "                })\n",
    "\n",
    "                # Copy image to classified folder\n",
    "                shutil.copy(image_path, classified_images_folder)\n",
    "\n",
    "                # Update summary\n",
    "                for weapon_class in weapon_classes:\n",
    "                    summary[weapon_class] = summary.get(weapon_class, 0) + 1\n",
    "\n",
    "        # Show progress every 100 images\n",
    "        if index % 100 == 0 or index == total_images:\n",
    "            remaining = total_images - index\n",
    "            print(f\"Processed {index}/{total_images} images. {remaining} images remaining.\")\n",
    "\n",
    "        # Save intermediate results every save_interval images\n",
    "        if index % save_interval == 0 or index == total_images:\n",
    "            save_intermediate_results(results, summary)\n",
    "\n",
    "            # Pause for user input\n",
    "            print(f\"Processed {index}/{total_images} images. Pausing for user input.\")\n",
    "            user_input = input(\"Do you want to continue processing? (yes/no): \").strip().lower()\n",
    "            if user_input != \"yes\":\n",
    "                print(\"Exiting program...\")\n",
    "                break\n",
    "\n",
    "    return results, summary"
   ]
  },
  {
   "cell_type": "code",
   "execution_count": 12,
   "metadata": {},
   "outputs": [
    {
     "name": "stdout",
     "output_type": "stream",
     "text": [
      "Setting up directories...\n",
      "Getting image list...\n"
     ]
    },
    {
     "ename": "NameError",
     "evalue": "name 'IMAGE_FOLDER' is not defined",
     "output_type": "error",
     "traceback": [
      "\u001b[0;31m---------------------------------------------------------------------------\u001b[0m",
      "\u001b[0;31mNameError\u001b[0m                                 Traceback (most recent call last)",
      "\u001b[0;32m/var/folders/vk/m4mvvjw97z740q4bfjr898nm0000gn/T/ipykernel_21878/3186211606.py\u001b[0m in \u001b[0;36m<module>\u001b[0;34m\u001b[0m\n\u001b[1;32m     24\u001b[0m \u001b[0;34m\u001b[0m\u001b[0m\n\u001b[1;32m     25\u001b[0m \u001b[0;32mif\u001b[0m \u001b[0m__name__\u001b[0m \u001b[0;34m==\u001b[0m \u001b[0;34m\"__main__\"\u001b[0m\u001b[0;34m:\u001b[0m\u001b[0;34m\u001b[0m\u001b[0;34m\u001b[0m\u001b[0m\n\u001b[0;32m---> 26\u001b[0;31m     \u001b[0mmain\u001b[0m\u001b[0;34m(\u001b[0m\u001b[0;34m)\u001b[0m\u001b[0;34m\u001b[0m\u001b[0;34m\u001b[0m\u001b[0m\n\u001b[0m",
      "\u001b[0;32m/var/folders/vk/m4mvvjw97z740q4bfjr898nm0000gn/T/ipykernel_21878/3186211606.py\u001b[0m in \u001b[0;36mmain\u001b[0;34m()\u001b[0m\n\u001b[1;32m      7\u001b[0m \u001b[0;34m\u001b[0m\u001b[0m\n\u001b[1;32m      8\u001b[0m     \u001b[0mprint\u001b[0m\u001b[0;34m(\u001b[0m\u001b[0;34m\"Getting image list...\"\u001b[0m\u001b[0;34m)\u001b[0m\u001b[0;34m\u001b[0m\u001b[0;34m\u001b[0m\u001b[0m\n\u001b[0;32m----> 9\u001b[0;31m     \u001b[0mimages\u001b[0m \u001b[0;34m=\u001b[0m \u001b[0mget_images\u001b[0m\u001b[0;34m(\u001b[0m\u001b[0mIMAGE_FOLDER\u001b[0m\u001b[0;34m)\u001b[0m\u001b[0;34m\u001b[0m\u001b[0;34m\u001b[0m\u001b[0m\n\u001b[0m\u001b[1;32m     10\u001b[0m     \u001b[0mtotal_images\u001b[0m \u001b[0;34m=\u001b[0m \u001b[0mlen\u001b[0m\u001b[0;34m(\u001b[0m\u001b[0mimages\u001b[0m\u001b[0;34m)\u001b[0m\u001b[0;34m\u001b[0m\u001b[0;34m\u001b[0m\u001b[0m\n\u001b[1;32m     11\u001b[0m     \u001b[0mprint\u001b[0m\u001b[0;34m(\u001b[0m\u001b[0;34mf\"Found {total_images} images to process.\"\u001b[0m\u001b[0;34m)\u001b[0m\u001b[0;34m\u001b[0m\u001b[0;34m\u001b[0m\u001b[0m\n",
      "\u001b[0;31mNameError\u001b[0m: name 'IMAGE_FOLDER' is not defined"
     ]
    }
   ],
   "source": [
    "def main():\n",
    "    \"\"\"\n",
    "    Main execution function to organize the workflow.\n",
    "    \"\"\"\n",
    "    print(\"Setting up directories...\")\n",
    "    setup_directories()\n",
    "\n",
    "    print(\"Getting image list...\")\n",
    "    images = get_images(image_folder)\n",
    "    total_images = len(images)\n",
    "    print(f\"Found {total_images} images to process.\")\n",
    "\n",
    "    print(\"Processing images...\")\n",
    "    results, summary = process_images(images, save_interval=1000)\n",
    "\n",
    "    print(\"Saving final results to JSON...\")\n",
    "    save_intermediate_results(results, summary)\n",
    "\n",
    "    print(f\"Total images identified with weapons: {len(results)}\")\n",
    "    print(\"Classification summary:\")\n",
    "    for weapon_class, count in summary.items():\n",
    "        print(f\"  {weapon_class}: {count}\")\n",
    "\n",
    "\n",
    "if __name__ == \"__main__\":\n",
    "    main()"
   ]
  }
 ],
 "metadata": {
  "kernelspec": {
   "display_name": "hiwi_env",
   "language": "python",
   "name": "python3"
  },
  "language_info": {
   "codemirror_mode": {
    "name": "ipython",
    "version": 3
   },
   "file_extension": ".py",
   "mimetype": "text/x-python",
   "name": "python",
   "nbconvert_exporter": "python",
   "pygments_lexer": "ipython3",
   "version": "3.9.13"
  }
 },
 "nbformat": 4,
 "nbformat_minor": 2
}
