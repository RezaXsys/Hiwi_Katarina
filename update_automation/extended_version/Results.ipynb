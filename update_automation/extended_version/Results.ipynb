{
 "cells": [
  {
   "cell_type": "markdown",
   "metadata": {},
   "source": [
    "# LOG Datei expected Results\n"
   ]
  },
  {
   "cell_type": "markdown",
   "metadata": {},
   "source": [
    "Gelöschte Links und Statistik:\n",
    "Gelöscht: https://pbs.twimg.com/media/EzW1KvAXMAAo7Xm.jpg (Label: Klimawandel, Tweet: Diskussion über steigende Temperaturen weltweit)\n",
    "Gelöscht: https://pbs.twimg.com/media/EzW1nBXWEAAYXlR.jpg (Label: Politik, Tweet: Kommentar zu internationalen Handelsabkommen)\n",
    "\n",
    "Statistik:\n",
    "Klimawandel: 1 gelöschte Links\n",
    "Politik: 1 gelöschte Links\n"
   ]
  },
  {
   "cell_type": "code",
   "execution_count": null,
   "metadata": {
    "vscode": {
     "languageId": "plaintext"
    }
   },
   "outputs": [],
   "source": [
    "# Konsolen Ausgabe \n",
    "Überprüfung abgeschlossen: 0 ersetzt, 2 ungültig.\n",
    "Statistik geschrieben.\n",
    "\n"
   ]
  },
  {
   "cell_type": "markdown",
   "metadata": {},
   "source": [
    "### FLOW der Methoden \n",
    "\n",
    "1. Main-Funktion:\n",
    "    * organisiert die Ausführung des Programms \n",
    "    * triggert die Hauptlogik (process_links) und Beispiel-Kategorisierung \n",
    "2. Separate Funktionen:\n",
    "    * Funktionen klar aufgeteilt: Validierung (validate_link), Kategorisierung (categorize_tweet), CSV-Export (export_deleted_links_to_csv)\n",
    "3. Parameterübergaben:\n",
    "    * process_links akzeptiert alle relevanten Dateipfad als Parameter, um flexibler zu sein \n",
    "4. Logik-Streamlining:\n",
    "    * Doppelte Codeblöcke wurden entfernt\n",
    "    * Kompakte und verständlich Statistiken \n",
    "5. Nutzung von NLTK:\n",
    "    * die automatische Kategorsisierung  wird als Beispiel implementiert und kann erweitert werden"
   ]
  }
 ],
 "metadata": {
  "language_info": {
   "name": "python"
  }
 },
 "nbformat": 4,
 "nbformat_minor": 2
}
