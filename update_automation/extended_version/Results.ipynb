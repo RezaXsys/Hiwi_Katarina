{
 "cells": [
  {
   "cell_type": "markdown",
   "metadata": {},
   "source": [
    "# LOG Datei expected Results\n"
   ]
  },
  {
   "cell_type": "markdown",
   "metadata": {},
   "source": [
    "Gelöschte Links und Statistik:\n",
    "Gelöscht: https://pbs.twimg.com/media/EzW1KvAXMAAo7Xm.jpg (Label: Klimawandel, Tweet: Diskussion über steigende Temperaturen weltweit)\n",
    "Gelöscht: https://pbs.twimg.com/media/EzW1nBXWEAAYXlR.jpg (Label: Politik, Tweet: Kommentar zu internationalen Handelsabkommen)\n",
    "\n",
    "Statistik:\n",
    "Klimawandel: 1 gelöschte Links\n",
    "Politik: 1 gelöschte Links\n"
   ]
  },
  {
   "cell_type": "code",
   "execution_count": null,
   "metadata": {
    "vscode": {
     "languageId": "plaintext"
    }
   },
   "outputs": [],
   "source": [
    "# Konsolen Ausgabe \n",
    "Überprüfung abgeschlossen: 0 ersetzt, 2 ungültig.\n",
    "Statistik geschrieben.\n",
    "\n"
   ]
  }
 ],
 "metadata": {
  "language_info": {
   "name": "python"
  }
 },
 "nbformat": 4,
 "nbformat_minor": 2
}
