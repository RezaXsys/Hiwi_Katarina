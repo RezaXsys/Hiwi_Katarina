{
 "cells": [
  {
   "cell_type": "markdown",
   "metadata": {},
   "source": [
    "# PIPELINE"
   ]
  },
  {
   "cell_type": "code",
   "execution_count": null,
   "metadata": {
    "vscode": {
     "languageId": "plaintext"
    }
   },
   "outputs": [],
   "source": []
  },
  {
   "cell_type": "markdown",
   "metadata": {},
   "source": [
    "### 1. Laden der Daten: \n",
    "* Laden der klassifizieren Bilder mit torch-load aus der angebenen Datei -> Anmerkungen: es gibt eine json file, wo man die kennnummern und die Generierung und klassifiezierungen abspeichern kann\n",
    "    Ghet schneller als die Bilder \n",
    "\n",
    "* Bilder immer Blockweiese (500) Verarbeiten \n",
    "### 2. Analyse mit dem CLIP-MODELL:\n",
    "### 3. Analyse mit Roboflow/Huggingface-Modell:\n",
    "### 4. Überschneidungen und Statistiken:\n",
    "### 5. Bericht generieren: \n",
    "* Bilder die bei beiden Matchen sollen in einer separaten liste gespeichert werden. Schnittmenge im Detail überprüfen "
   ]
  }
 ],
 "metadata": {
  "language_info": {
   "name": "python"
  }
 },
 "nbformat": 4,
 "nbformat_minor": 2
}
