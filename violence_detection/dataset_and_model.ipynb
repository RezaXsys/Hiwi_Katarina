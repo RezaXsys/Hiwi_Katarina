{
 "cells": [
  {
   "cell_type": "markdown",
   "metadata": {},
   "source": [
    "# COCO and YOLOv8"
   ]
  },
  {
   "cell_type": "markdown",
   "metadata": {},
   "source": [
    "### 1. Verwendung eines vortrainierten Modells \n",
    "\n",
    "Coco zwar gut wenn man vortrainiert haben will, aber in den 80 definierten Wörter sind leider keine Waffen enthalten.\n",
    "* Nutzen sie es, wenn die gewünschten Objekte (z.bsp. Menschen, Autos) bereits trainiert wurden \n",
    "* Prüfen sie die verfügbaren Klassen und spezifizieren sie im code,welche erkannt werden sollen "
   ]
  },
  {
   "cell_type": "code",
   "execution_count": null,
   "metadata": {},
   "outputs": [],
   "source": [
    "model = YOLO(\"yolov8.pt\")  # Laden des vortrainierten Modells\n",
    "results = model.predict(\"image.jpg\", classes=[0, 2])  # Erkennung von Menschen (0) und Autos (2)"
   ]
  },
  {
   "cell_type": "markdown",
   "metadata": {},
   "source": [
    "### 2. Training auf einem benutzerdefinierten Datensatz \n",
    "* Trainieren Sie das Modell auf ihre eigenen Objekte, wenn diese nicht in den Stndardklassen enthalten sind. \n",
    "* Definieren sie ihre eigenen Klassenlabels und erstellen Sie ienen passenden Datensatz \n"
   ]
  },
  {
   "cell_type": "markdown",
   "metadata": {},
   "source": [
    "### Schritte:\n",
    "1. Objekte definieren:\n",
    "    * Entscheiden welche Objekte für ihre Anwendung wichtig sind ... Waffentypen \n",
    "2. Datensammlung:\n",
    "    * Sammeln Sie bilder, die die gewünschten Objekte enthalten, und annotieren -> Tools wie Roboflow\n",
    "3. Training starten: \n",
    "    * Trainieren Sie das Modell mit ihrem Datensatz, indem sie den Klassenlabels die Namen "
   ]
  },
  {
   "cell_type": "code",
   "execution_count": null,
   "metadata": {},
   "outputs": [],
   "source": [
    "'0 0.5 0.5 0.3 0.3'  # Klasse 0 (z. B. \"Apfel\") mit Bounding Box\n",
    "'1 0.4 0.4 0.2 0.2'  # Klasse 1 (z. B. \"Buch\")\n",
    "''"
   ]
  },
  {
   "cell_type": "markdown",
   "metadata": {},
   "source": [
    "### Alternative Datensätze für Waffen\n",
    "Weapons in Images dataset has 5695 images. Click on one of the examples below or open \"Explore\" tool anytime you need to view dataset images with annotations.\n",
    "* Dataste Ninja = Weapons in Images Dataset \n",
    "    + Weapons in Images: Images of Weapons with YOLO Annotations for Detecting Weapons is a dataset for an object detection task. Possible applications of the dataset could be in the security industry.\n",
    "    + train-weapons_in_images (4375 images) and test-cctv (1320 images)\n",
    "\n",
    "The dataset consists of 5695 images with 9304 labeled objects belonging to 1 single class (weapon).\n",
    "\n",
    "https://datasetninja.com/weapons-in-images?utm_source=chatgpt.com\n"
   ]
  },
  {
   "cell_type": "markdown",
   "metadata": {},
   "source": []
  },
  {
   "cell_type": "code",
   "execution_count": null,
   "metadata": {},
   "outputs": [],
   "source": []
  }
 ],
 "metadata": {
  "language_info": {
   "name": "python"
  }
 },
 "nbformat": 4,
 "nbformat_minor": 2
}
