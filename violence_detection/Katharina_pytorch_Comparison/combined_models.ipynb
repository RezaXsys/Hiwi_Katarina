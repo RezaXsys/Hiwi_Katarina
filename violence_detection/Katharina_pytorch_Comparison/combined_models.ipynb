{
 "cells": [
  {
   "cell_type": "markdown",
   "metadata": {},
   "source": [
    "# PIPELINE"
   ]
  },
  {
   "cell_type": "markdown",
   "metadata": {},
   "source": [
    "- torch datei vs json file vergelichen ist das möglich \n",
    "- HUggingfcae modell hinzufügen "
   ]
  },
  {
   "cell_type": "markdown",
   "metadata": {},
   "source": [
    "### Details \n",
    "1. **CLIP-Modell:** Wird verwendet, um die Wahrscheinlichkeiten zu berechnen, ob ein Bild eine Waffe enthält. Der SChwellenwert ist anpassbar, falls die Klassifikationsergebnisse unzureichend sind.\n",
    "2. **Roboflow-Integration:** wird über die API initalisiert und für die Analyse von Bildern genutzt \n",
    "3. **Ergebnisvergleich:** Die Überschneidung und Unterschiede zwischen den Modellen werden als Mengenoperationen durchgeführt.\n",
    "4. **Ergebnisvergleich:** Die Überschneidungen und Unterschiede zwischen den Modellen werden als Mengenoperationen durchgeführt \n",
    "5. **Batch-Verarbeitung:** Bilder werden in Blöcken von 500 verarbeitet, um Speicherplatz effizient zu nutzen. \n",
    "6. **Dynamisch Anpassung:** Falls zu wenige Bilder Klassifiziert werden, wird der Schwellenwert dynamisch abgesenkt"
   ]
  },
  {
   "cell_type": "markdown",
   "metadata": {},
   "source": [
    "### 1. Laden der Daten: \n",
    "* Laden der klassifizieren Bilder mit torch-load aus der angebenen Datei -> Anmerkungen: es gibt eine json file, wo man die kennnummern und die Generierung und klassifiezierungen abspeichern kann\n",
    "    + Ghet schneller als die Bilder \n",
    "\n",
    "* Bilder immer Blockweiese (500) Verarbeiten \n",
    "### 2. Analyse mit dem CLIP-MODELL:\n",
    "* Verwendet ein CLIP-MODELL, um die Bildähnlichkeit zu bewerten und Überschneidungen zu finden. \n",
    "* Setzt einen Schwellenwert (z.B. 20%) und passe ihn dynamisch an, wenn nicht genügend Bilder Klassifiziert werden.\n",
    "### 3. Analyse mit Roboflow/Huggingface-Modell:\n",
    "* Führt eine weitere Analyse mit einem trainierten Roboflow-Modell (über Huggingface) durch. \n",
    "* Identifiziere Bilder mit Waffen basierend auf diesem Modell \n",
    "### 4. Überschneidungen und Statistiken:\n",
    "* Vergelicht die Ergebnisse von CLIP und dem Roboflow-Modell\n",
    "* Generiere eine Gegenüberstelllung der Anzhal der Bilder mit Waffen: \n",
    "    - In beiden Modellen Klassifiziert \n",
    "    - Nur in einem Modelle klassifiziert \n",
    "### 5. Bericht generieren: \n",
    "* Speichere die Ergebnisse und Statistiken in einer übersichtlichen Form (z.B. als CSV oder JSON)\n",
    "* Bilder die bei beiden Matchen sollen in einer separaten liste gespeichert werden. Schnittmenge im Detail überprüfen "
   ]
  },
  {
   "cell_type": "markdown",
   "metadata": {},
   "source": [
    "### **IMPORTS**"
   ]
  },
  {
   "cell_type": "code",
   "execution_count": 3,
   "metadata": {},
   "outputs": [
    {
     "name": "stderr",
     "output_type": "stream",
     "text": [
      "/Users/TheresaHartmann/opt/anaconda3/envs/env-hiwi/lib/python3.9/site-packages/tqdm/auto.py:21: TqdmWarning: IProgress not found. Please update jupyter and ipywidgets. See https://ipywidgets.readthedocs.io/en/stable/user_install.html\n",
      "  from .autonotebook import tqdm as notebook_tqdm\n"
     ]
    },
    {
     "ename": "ModuleNotFoundError",
     "evalue": "No module named 'roboflow'",
     "output_type": "error",
     "traceback": [
      "\u001b[0;31m---------------------------------------------------------------------------\u001b[0m",
      "\u001b[0;31mModuleNotFoundError\u001b[0m                       Traceback (most recent call last)",
      "Cell \u001b[0;32mIn[3], line 5\u001b[0m\n\u001b[1;32m      3\u001b[0m \u001b[38;5;28;01mimport\u001b[39;00m \u001b[38;5;21;01mnumpy\u001b[39;00m \u001b[38;5;28;01mas\u001b[39;00m \u001b[38;5;21;01mnp\u001b[39;00m\n\u001b[1;32m      4\u001b[0m \u001b[38;5;28;01mfrom\u001b[39;00m \u001b[38;5;21;01mtransformers\u001b[39;00m \u001b[38;5;28;01mimport\u001b[39;00m CLIPProcessor, CLIPModel, pipeline\n\u001b[0;32m----> 5\u001b[0m \u001b[38;5;28;01mfrom\u001b[39;00m \u001b[38;5;21;01mroboflow\u001b[39;00m \u001b[38;5;28;01mimport\u001b[39;00m Roboflow\n\u001b[1;32m      6\u001b[0m \u001b[38;5;28;01mimport\u001b[39;00m \u001b[38;5;21;01mjson\u001b[39;00m\n",
      "\u001b[0;31mModuleNotFoundError\u001b[0m: No module named 'roboflow'"
     ]
    }
   ],
   "source": [
    "import os\n",
    "import torch\n",
    "import numpy as np\n",
    "from transformers import CLIPProcessor, CLIPModel, pipeline\n",
    "from roboflow import Roboflow\n",
    "import json"
   ]
  },
  {
   "cell_type": "markdown",
   "metadata": {},
   "source": [
    "### **SETTINGS**"
   ]
  },
  {
   "cell_type": "code",
   "execution_count": null,
   "metadata": {},
   "outputs": [],
   "source": [
    "CLIP_THRESHOLD = 0.2\n",
    "BATCH_SIZE = 500\n",
    "ROBOWFLOW_API_KEY = \"your_roboflow_api_key\" # Bitte Gebenfalls eigenen API verwenden, Konto notwendig\n",
    "ROBOWFLOW_MODEL = \"your_model_version\" # TODO replace with model "
   ]
  },
  {
   "cell_type": "markdown",
   "metadata": {},
   "source": [
    "### **Roboflow INIT**"
   ]
  },
  {
   "cell_type": "code",
   "execution_count": null,
   "metadata": {},
   "outputs": [],
   "source": [
    "rf = Roboflow(api_key=ROBOWFLOW_API_KEY)\n",
    "project = rf.workspace().project(\"your_project_name\")\n",
    "roboflow_model = project.version(ROBOWFLOW_MODEL).model\n",
    "# TODO: replace with pretrained model "
   ]
  },
  {
   "cell_type": "markdown",
   "metadata": {},
   "source": [
    "### **Clip INIT**"
   ]
  },
  {
   "cell_type": "code",
   "execution_count": null,
   "metadata": {},
   "outputs": [],
   "source": [
    "clip_model = CLIPModel.from_pretrained(\"openai/clip-vit-base-patch32\")\n",
    "clip_processor = CLIPProcessor.from_pretrained(\"openai/clip-vit-base-patch32\")\n"
   ]
  },
  {
   "cell_type": "markdown",
   "metadata": {},
   "source": [
    "### **METHODS**"
   ]
  },
  {
   "cell_type": "code",
   "execution_count": null,
   "metadata": {},
   "outputs": [],
   "source": [
    "def load_images(filepath):\n",
    "    # Images aus torch datei laden \n",
    "    return torch.load(filepath)"
   ]
  },
  {
   "cell_type": "code",
   "execution_count": null,
   "metadata": {},
   "outputs": [],
   "source": [
    "def load_roboflow_results(filepath):\n",
    "    # Ergebnisse aus der Roboflow datei laden und store detetcion per images \n",
    "    with open(filepath, \"r\") as f:\n",
    "        data = json.load(f)\n",
    "        \n",
    "    roboflow_results = {}\n",
    "    for entry in data: \n",
    "        image_name = entry[\"image_name\"]\n",
    "        detected_classes = entry[\"classes\"]\n",
    "        # List of detection weapon \n",
    "        roboflow_results[image_name] = \"weapon\" if detected_classes else \"not weapon\""
   ]
  },
  {
   "cell_type": "code",
   "execution_count": null,
   "metadata": {},
   "outputs": [],
   "source": [
    "def analyze_with_roboflow(images):\n",
    "    \"roboflow Bilder\"\n",
    "    weapon_images = []\n",
    "    for image in images: \n",
    "        prediction = roboflow_model.predict(image, hosted = True )\n",
    "        if \"weapon\" in prediction[\"predictions\"]:# das muss an die Roboflow Modelle und ergebnisse angepasst werden\n",
    "            weapon_images.append(image)\n",
    "    return weapon_images "
   ]
  },
  {
   "cell_type": "code",
   "execution_count": null,
   "metadata": {},
   "outputs": [],
   "source": [
    "def analyze_with_clip(images, threshold): \n",
    "    # Analyze Bilder mit CLIP-MODELL\n",
    "    results_per_threshold = {t: [] for t in threshold}\n",
    "    \n",
    "    for image in images:\n",
    "        image_name = image.split(\"/\")[-1]\n",
    "        \n",
    "        inputs = clip_processor(text=[\"weapon\", \"not weapon\"],images=image, return_tenors=\"pt\", padding= True)\n",
    "        outputs = clip_model(**inputs)\n",
    "        logits_per_image = outputs.logits_per_image.softmax(dim=1).detach().numpy()\n",
    "        \n",
    "        for t in threshold: \n",
    "            results_per_threshold[t][image_name]= \"weapon\" if logits_per_image[0][0] > t else \"not weapon\"\n",
    "            \n",
    "        \n",
    "    return results_per_threshold"
   ]
  },
  {
   "cell_type": "markdown",
   "metadata": {},
   "source": [
    "### **COMPARISONS**\n"
   ]
  },
  {
   "cell_type": "code",
   "execution_count": null,
   "metadata": {},
   "outputs": [],
   "source": [
    "def compare_results(clip_results, roboflow_results):\n",
    "    # Vergeliche Ergebnisse und erstelle Statistiken\n",
    "    set_clip = set(clip_results)\n",
    "    set_roboflow = set(roboflow_results)\n",
    "    \n",
    "    overlap = set_clip.intersection(set_roboflow)\n",
    "    only_clip = set_clip.difference(set_roboflow)\n",
    "    only_roboflow = set_roboflow.difference(set_clip)\n",
    "    \n",
    "    return {\n",
    "        \"overlap\": len(overlap),\n",
    "        \"only_clip\": len(only_clip),\n",
    "        \"only_roboflow\": len(only_roboflow),\n",
    "    }\n",
    "    "
   ]
  },
  {
   "cell_type": "code",
   "execution_count": null,
   "metadata": {},
   "outputs": [],
   "source": [
    "def compare_results_second( clip_results, roboflow_results):\n",
    "    # Compare CLIP and Roboflow classifictaion per threshold\n",
    "    comparison_stats = {}\n",
    "    \n",
    "    for t, clip_classifications in clip_results.items():\n",
    "        correct = 0\n",
    "        total = len(roboflow_results)\n",
    "        false_positives = 0\n",
    "        false_negatives = 0 \n",
    "        \n",
    "        for image_name, roboflow_label in roboflow_results.items():\n",
    "            clip_label = clip_classifications.get(image_name, \"not weapon\")  # Default to \"not weapon\" if missing\n",
    "            \n",
    "            if clip_label == roboflow_label:\n",
    "                correct += 1 \n",
    "            elif clip_label == \"weapon\" and roboflow_label == \"not weapon\":\n",
    "                false_postives += 1 \n",
    "            elif clip_label == \"not weapon\" and roboflow_label == \"weapon\":\n",
    "                false_negatives += 1 \n",
    "                \n",
    "         # Calculate precision, recall and F1 score\n",
    "        precision = correct / (correct + false_positives) if ( correct + false_positives)> 0 else 0\n",
    "        recall = correct / (correct + false_negatives) if (correct + false_negatives) > 0 else 0\n",
    "        f1_score = 2 * (precision * recall) / (precision + recall) if (precision + recall) > 0 else 0\n",
    "\n",
    "        comparison_stats[t] = {\n",
    "            \"correct\": correct,\n",
    "            \"false_positives\": false_positives,\n",
    "            \"false_negatives\": false_negatives,\n",
    "            \"precision\": precision,\n",
    "            \"recall\": recall,\n",
    "            \"f1_score\": f1_score\n",
    "        }\n",
    "        \n",
    "    return comparison_stats           \n"
   ]
  },
  {
   "cell_type": "code",
   "execution_count": null,
   "metadata": {},
   "outputs": [],
   "source": [
    "#def main(): \n",
    "#   image_filepath = \"/ceph/lprasse/ClimateVisions/Tweet_Dataset/nsfw_cleaning/final_res/sim_violence_4.torch\"\n",
    "#   images = load_images(image_filepath)\n",
    "#   \n",
    "#   for i in range(0, len(images), BATCH_SIZE):\n",
    "#       batch = images[i:i + BATCH_SIZE]"
   ]
  },
  {
   "cell_type": "code",
   "execution_count": null,
   "metadata": {},
   "outputs": [],
   "source": [
    "def main():\n",
    "    # Load images from torch file\n",
    "    image_filepath = \"/ceph/lprasse/ClimateVisions/Tweet_Dataset/nsfw_cleaning/final_res/sim_violence_3.torch\"\n",
    "    images = load_images(image_filepath)\n",
    "\n",
    "    # Load Roboflow JSON results\n",
    "    roboflow_results = load_roboflow_results(\"weapon_classification.json\")\n",
    "\n",
    "    # Define thresholds to test\n",
    "    thresholds = [i * 0.1 for i in range(1, 10)]  # 0.1, 0.2, ..., 0.9\n",
    "\n",
    "    # Get CLIP results for each threshold\n",
    "    clip_results_per_threshold = analyze_with_clip(images, thresholds)\n",
    "\n",
    "    # Compare CLIP and Roboflow results\n",
    "    comparison_stats = compare_results_second(clip_results_per_threshold, roboflow_results)\n",
    "\n",
    "    # Find the best threshold based on F1-score\n",
    "    best_threshold = max(comparison_stats, key=lambda t: comparison_stats[t][\"f1_score\"])\n",
    "    best_f1 = comparison_stats[best_threshold][\"f1_score\"]\n",
    "\n",
    "    print(f\"Best threshold: {best_threshold} with F1-score: {best_f1}\")\n",
    "    print(\"Comparison stats per threshold:\", json.dumps(comparison_stats, indent=4))\n",
    "\n",
    "    # Save results for later analysis\n",
    "    with open(\"comparison_results.json\", \"w\") as f:\n",
    "        json.dump(comparison_stats, f, indent=4)\n"
   ]
  }
 ],
 "metadata": {
  "kernelspec": {
   "display_name": "env-hiwi",
   "language": "python",
   "name": "python3"
  },
  "language_info": {
   "codemirror_mode": {
    "name": "ipython",
    "version": 3
   },
   "file_extension": ".py",
   "mimetype": "text/x-python",
   "name": "python",
   "nbconvert_exporter": "python",
   "pygments_lexer": "ipython3",
   "version": "3.9.18"
  }
 },
 "nbformat": 4,
 "nbformat_minor": 2
}
