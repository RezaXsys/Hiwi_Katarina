{
 "cells": [
  {
   "cell_type": "markdown",
   "metadata": {},
   "source": [
    "# IS_AGGRESIEVE_POSE with OPENPOSE"
   ]
  },
  {
   "cell_type": "markdown",
   "metadata": {},
   "source": [
    "### Concept Overview \n",
    "1. Pose Estimation: \n",
    "    * Pose estimation invovles detecting key points (joints) on the human body in an image, such as the head, shoulders, elbows and knees \n",
    "    * Tools like OpenpOse ouput these key points along with their coordinates \n",
    "2. Defining \"Aggressive\" Poses: \n",
    "    * Raised hands holding a weapon \n",
    "    * Swining arms (indicative of hitting or threatening behavior)\n",
    "    * a stance suggesting an attacj (leaning forward, legs wide apart )\n",
    "3. Analyzing Pose Data: \n",
    "    * key points can be analyzed to infer these beahviors. For example:\n",
    "        - Raised hands: The y-coordinate of hand joints is higher than the shoulder joints\n",
    "        - Leaning forward: the neck joints is fat ahead of the jip joint on the x-axis"
   ]
  },
  {
   "cell_type": "markdown",
   "metadata": {},
   "source": [
    "### Steps to Implement \n",
    "1. Understand the pose Data Format: \n",
    "    * Pose estimation tools like OpenPose output data in teh form of a list of key points \n",
    "    * Each key point contains the (x,y) coordinates and a confidence score "
   ]
  },
  {
   "cell_type": "code",
   "execution_count": 1,
   "metadata": {},
   "outputs": [],
   "source": [
    "pose_data = [\n",
    "    {\"keypoint\": \"nose\", \"x\": 320, \"y\": 200, \"confidence\": 0.95},\n",
    "    {\"keypoint\": \"left_shoulder\", \"x\": 300, \"y\": 250, \"confidence\": 0.90},\n",
    "    {\"keypoint\": \"right_shoulder\", \"x\": 340, \"y\": 250, \"confidence\": 0.88},\n",
    "    {\"keypoint\": \"left_hand\", \"x\": 280, \"y\": 150, \"confidence\": 0.85},\n",
    "    {\"keypoint\": \"right_hand\", \"x\": 360, \"y\": 150, \"confidence\": 0.87},\n",
    "\n",
    "]"
   ]
  },
  {
   "cell_type": "markdown",
   "metadata": {},
   "source": [
    "2. Define Aggression Rule \n",
    "    * Rasie hands: The y-coordinate of hands is significantly higher than the shoulders \n",
    "    * Learning forward: The x-coordinate difference between the neck and hips is lareg \n",
    "    * Weapon stance: If weapons are detced near the hands (optional step combining object detection)\n",
    "    "
   ]
  },
  {
   "cell_type": "markdown",
   "metadata": {},
   "source": [
    "3. Exampel Implementation: "
   ]
  },
  {
   "cell_type": "code",
   "execution_count": 2,
   "metadata": {},
   "outputs": [],
   "source": [
    "def get_keypoint(pose_data, key):\n",
    "    for point in pose_data:\n",
    "        if point[\"keypoint\"] == key:\n",
    "            return point\n",
    "    return None"
   ]
  },
  {
   "cell_type": "code",
   "execution_count": 3,
   "metadata": {},
   "outputs": [],
   "source": [
    "# Hilfsfunktion zur Erkennung aggressiver Posen\n",
    "def is_aggressive_pose(pose_data):\n",
    "    left_hand = get_keypoint(pose_data, \"left_hand\")\n",
    "    right_hand = get_keypoint(pose_data, \"right_hand\")\n",
    "    left_shoulder = get_keypoint(pose_data, \"left_shoulder\")\n",
    "    right_shoulder = get_keypoint(pose_data, \"right_shoulder\")\n",
    "    neck = get_keypoint(pose_data, \"Neck\")\n",
    "    mid_hip = get_keypoint(pose_data, \"mid_hip\")\n",
    "    \n",
    "    # Check if hands are raised \n",
    "    if left_hand and left_shoulder and left_hand[\"y\"] < left_shoulder[\"y\"]:\n",
    "        return True\n",
    "    if right_hand and right_shoulder and right_hand[\"y\"] < right_shoulder[\"y\"]:\n",
    "        return True\n",
    "    \n",
    "    # Check if leaning forward \n",
    "    if neck and mid_hip and abs(neck[\"x\"]- mid_hip[\"x\"])>50: #Threshold for leaning forwward\n",
    "        return True \n",
    "    return True"
   ]
  },
  {
   "cell_type": "code",
   "execution_count": 4,
   "metadata": {},
   "outputs": [
    {
     "name": "stdout",
     "output_type": "stream",
     "text": [
      "True\n"
     ]
    }
   ],
   "source": [
    "sample_pose_data = [\n",
    "    {\"keypoint\": \"left_hand\", \"x\": 280, \"y\": 150, \"confidence\": 0.85},\n",
    "    {\"keypoint\": \"left_shoulder\", \"x\": 300, \"y\": 250, \"confidence\": 0.90},\n",
    "    {\"keypoint\": \"neck\", \"x\": 320, \"y\": 200, \"confidence\": 0.95},\n",
    "    {\"keypoint\": \"mid_hip\", \"x\": 300, \"y\": 300, \"confidence\": 0.88},\n",
    "]\n",
    "print(is_aggressive_pose(sample_pose_data))  # Output: True (hands raised)\n"
   ]
  },
  {
   "cell_type": "markdown",
   "metadata": {},
   "source": [
    "### Extension \n",
    "* Add weapon detection: Combine pose data with YOLOv8 results to check if detected weapons are near hands.\n",
    "* Consider multiple persons: Iterate through pose data for each detected person in the image."
   ]
  },
  {
   "cell_type": "markdown",
   "metadata": {},
   "source": [
    "# Actively Shooting "
   ]
  },
  {
   "cell_type": "markdown",
   "metadata": {},
   "source": [
    "### Key Pose Indicators for Shooting: \n",
    "1. Weapon in Hand \n",
    "    * The detected weapon (from YOLOv8 or similar tools) is clsoe to the hand key points (left or right hand)\n",
    "    * => the bounding box center of the weapon overlaps with coordinates of the hand \n",
    "2. Arm extended in Shooting Direction \n",
    "    * One or both arms are extended toward another person, indicating amining \n",
    "    * This can be detected if the hand joints is far form the shoulder joint but roughly aligend along a straight line with the shoulder and elbow joints.\n",
    "3. Body Orientation \n",
    "    * The body is directed toward another person. This is inferred by the alignment of key points like shoulders and hips \n",
    "    * If teh distance between the shooters torso key points (neck, shoulders, hips) and the target is small in the x-axsi or y-axis \n",
    "4. Aggresive Stance  \n",
    "    * a shooting posture often involves a slight forward lean for balance \n",
    "    * the neck joint is slightly ahead of the hip joint on the x-axis"
   ]
  },
  {
   "cell_type": "markdown",
   "metadata": {},
   "source": [
    "### Implementation Steps \n"
   ]
  },
  {
   "cell_type": "code",
   "execution_count": null,
   "metadata": {},
   "outputs": [],
   "source": [
    "# 1. Weapon Proximity to Hand \n",
    "def is_weapon_in_hand(weapon_box, hand_keypoint):\n",
    "    # weapon_box = {\"x_min\": x_min, \"x_max\": x_max, \"y_min\": y_min, \"y_max\": y_max}\n",
    "    # hand_keypoint = {\"x\": x, \"y\": y, \"confidence\": confidence}\n",
    "    weapon_center_x = (weapon_box[\"x_min\"]+ weapon_box[\"x_max\"])/2\n",
    "    weapon_center_y = (weapon_box[\"y_min\"]+ weapon_box[\"y_max\"])/2\n",
    "    \n",
    "    hand_x, hand_y = hand_keypoint[\"x\"], hand_keypoint[\"y\"]\n",
    "    \n",
    "    # Check if the hand is close to the weapon\n",
    "    distance = ((weapon_center_x - hand_x)**2 + (weapon_center_y - hand_y)**2)**0.5\n",
    "    return distance < 50  # Adjust threshold based on dataset"
   ]
  },
  {
   "cell_type": "code",
   "execution_count": null,
   "metadata": {},
   "outputs": [],
   "source": [
    "# 2. Arm Extension \n",
    "def is_arm_extedned(shoulder, elbow, hand):\n",
    "    # Check if the arm is extended ina roughly straight line \n",
    "    def distance(p1, p2):\n",
    "        return ((p1[\"x\"] - p2[\"x\"])**2 + (p1[\"y\"] - p2[\"y\"])**2)**0.5\n",
    "    \n",
    "    shoulder_to_elbow = distance(shoulder, elbow)\n",
    "    elbow_to_hand = distance(elbow, hand)\n",
    "    shoulder_to_hand = distance(shoulder, hand)\n",
    "    \n",
    "    # If the sum of the two shorter segments equals the long segment, it’s a straight line\n",
    "    return abs((shoulder_to_elbow + elbow_to_hand) - shoulder_to_hand) < 10  # Adjust tolerance\n"
   ]
  },
  {
   "cell_type": "code",
   "execution_count": null,
   "metadata": {},
   "outputs": [],
   "source": [
    "# 3. Direction of Aim \n",
    "def is_aiming_at_target(shooter_pose, target_pose):\n",
    "    shooter_hand = shooter_pose[\"right_hand\"]\n",
    "    target_torso = target_pose[\"neck\"]\n",
    "    \n",
    "    dx = target_torso[\"x\"]-shooter_hand[\"x\"]\n",
    "    dy = target_torso[\"y\"]-shooter_hand[\"y\"]\n",
    "    angle = abs(math.atan2(dy, dx)* 180/math.pi)\n",
    "    # Check if angle is within a typical aiming range (e.g., 0°–45° horizontally)\n",
    "    return 0 <= angle <= 45\n",
    "    "
   ]
  }
 ],
 "metadata": {
  "kernelspec": {
   "display_name": "env-hiwi",
   "language": "python",
   "name": "python3"
  },
  "language_info": {
   "codemirror_mode": {
    "name": "ipython",
    "version": 3
   },
   "file_extension": ".py",
   "mimetype": "text/x-python",
   "name": "python",
   "nbconvert_exporter": "python",
   "pygments_lexer": "ipython3",
   "version": "3.9.18"
  }
 },
 "nbformat": 4,
 "nbformat_minor": 2
}
