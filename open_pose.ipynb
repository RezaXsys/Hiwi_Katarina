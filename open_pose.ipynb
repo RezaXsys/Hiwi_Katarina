{
 "cells": [
  {
   "cell_type": "markdown",
   "metadata": {},
   "source": [
    "# IS_AGGRESIEVE_POSE with OPENPOSE"
   ]
  },
  {
   "cell_type": "markdown",
   "metadata": {},
   "source": [
    "### Concept Overview \n",
    "1. Pose Estimation: \n",
    "    * Pose estimation invovles detecting key points (joints) on the human body in an image, such as the head, shoulders, elbows and knees \n",
    "    * Tools like OpenpOse ouput these key points along with their coordinates \n",
    "2. Defining \"Aggressive\" Poses: \n",
    "    * Raised hands holding a weapon \n",
    "    * Swining arms (indicative of hitting or threatening behavior)\n",
    "    * a stance suggesting an attacj (leaning forward, legs wide apart )\n",
    "3. Analyzing Pose Data: \n",
    "    * key points can be analyzed to infer these beahviors. For example:\n",
    "        - Raised hands: The y-coordinate of hand joints is higher than the shoulder joints\n",
    "        - Leaning forward: the neck joints is fat ahead of the jip joint on the x-axis"
   ]
  },
  {
   "cell_type": "markdown",
   "metadata": {},
   "source": [
    "### Steps to Implement \n",
    "1. Understand the pose Data Format "
   ]
  }
 ],
 "metadata": {
  "language_info": {
   "name": "python"
  }
 },
 "nbformat": 4,
 "nbformat_minor": 2
}
