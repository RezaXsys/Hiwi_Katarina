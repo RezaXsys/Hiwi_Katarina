{
 "cells": [
  {
   "cell_type": "markdown",
   "metadata": {},
   "source": [
    "# TWITTER LINKS REPLACEMENT "
   ]
  },
  {
   "cell_type": "markdown",
   "metadata": {},
   "source": [
    "Ziel: ist es die links der Bilder, wenn sie nicht mehr funktionieren, automatsiche durch das selbe bild, aber einen alternativen link zu erstezen. \n",
    "Das sollte am besten in regelmäßigen Abständen gemacht werden. Basis des Datenstazes sind links von twitter-Bilder."
   ]
  },
  {
   "cell_type": "markdown",
   "metadata": {},
   "source": [
    "### FRAGEN: \n",
    "\n",
    "* In welcher Form / Datenbank werden die Bildinks abgespeichert ?\n",
    "* Woher kommen die Fallback-links -> Müssen die noch automatisch generiert werden ? \n",
    "* Ich habe jetzt den Ordnern 10.Oktober und im subfolder complete verweendet, wo erreic ch di enicht gedownloaded BIlder ? \n",
    "* wie soll der Datenstaz erweitert werden \n",
    "* nach fallback links suchen und "
   ]
  },
  {
   "cell_type": "code",
   "execution_count": null,
   "metadata": {
    "vscode": {
     "languageId": "plaintext"
    }
   },
   "outputs": [],
   "source": []
  },
  {
   "cell_type": "markdown",
   "metadata": {},
   "source": [
    "### Grobe Idee\n",
    "\n",
    "1.  Datenbank fpr Bildlinks ist Voraustezung (Welche JSON, SQKLIte) => Notwenidg alternative Links oder Metdaten (Fallback-URLS)\n",
    "    * Fallback URL = the backup URL, that is used when the traffc cannot reach the main page for some reason \n",
    "2. Überprüfung der Links \n",
    "    * Wichtig die Verfügbarkeit des Links zu Überpürfen (HTTP Statuscodes)\n",
    "3. Atomatsiches Erstezten: \n",
    "    * wenn ein link nicht mehr funktonieren sollte, kann dieser ersetzt werden \n",
    "4. Notwenidg: Regelmäßigkeit in der Überprüfung = Shceduler benutzen \n",
    "5. Wenn keine fall-back links vorhanden, dann durch scraping oder twitter api nach alternativen für neue bilder suchen   "
   ]
  },
  {
   "cell_type": "code",
   "execution_count": null,
   "metadata": {},
   "outputs": [],
   "source": [
    "import requests\n",
    "import json\n",
    "import time\n",
    "from urllib.parse import urlparse\n",
    "\n",
    "# Datenbank-Datei\n",
    "DB_FILE = \"image_links.json\"\n",
    "\n",
    "def load_links():\n",
    "    \"\"\"Lade Bildlinks aus der JSON-Datei.\"\"\"\n",
    "    try:\n",
    "        with open(DB_FILE, 'r') as file:\n",
    "            return json.load(file)\n",
    "    except FileNotFoundError:\n",
    "        return []\n",
    "\n",
    "def save_links(links):\n",
    "    \"\"\"Speichere Bildlinks in die JSON-Datei.\"\"\"\n",
    "    with open(DB_FILE, 'w') as file:\n",
    "        json.dump(links, file, indent=4)\n",
    "\n",
    "def check_link(url):\n",
    "    \"\"\"Überprüfe, ob ein Bildlink funktioniert.\"\"\"\n",
    "    try:\n",
    "        response = requests.head(url, timeout=5)\n",
    "        return response.status_code == 200\n",
    "    except requests.RequestException:\n",
    "        return False\n",
    "\n",
    "def replace_broken_links(links):\n",
    "    \"\"\"Ersetze defekte Bildlinks durch alternative Links.\"\"\"\n",
    "    for entry in links:\n",
    "        main_link = entry['main']\n",
    "        alternatives = entry.get('alternatives', [])\n",
    "        \n",
    "        if not check_link(main_link):\n",
    "            print(f\"Link defekt: {main_link}\")\n",
    "            for alt in alternatives:\n",
    "                if check_link(alt):\n",
    "                    print(f\"Ersetze durch: {alt}\")\n",
    "                    entry['main'] = alt\n",
    "                    break\n",
    "            else:\n",
    "                print(\"Kein funktionierender alternativer Link gefunden.\")\n",
    "    return links\n",
    "\n",
    "def main():\n",
    "    \"\"\"Hauptprogramm zur regelmäßigen Überprüfung.\"\"\"\n",
    "    links = load_links()\n",
    "    links = replace_broken_links(links)\n",
    "    save_links(links)\n",
    "    print(\"Überprüfung abgeschlossen.\")\n",
    "\n",
    "if __name__ == \"__main__\":\n",
    "    # Optional: Regelmäßige Überprüfung alle X Sekunden\n",
    "    while True:\n",
    "        main()\n",
    "        time.sleep(3600)  # Überprüfung alle 3600 Sekunden (1 Stunde)\n"
   ]
  },
  {
   "cell_type": "code",
   "execution_count": null,
   "metadata": {},
   "outputs": [],
   "source": [
    "[\n",
    "    {\n",
    "        \"main\": \"https://twitter.com/example/image1.jpg\",\n",
    "        \"alternatives\": [\n",
    "            \"https://backup.com/image1.jpg\",\n",
    "            \"https://anotherbackup.com/image1.jpg\"\n",
    "        ]\n",
    "    },\n",
    "    {\n",
    "        \"main\": \"https://twitter.com/example/image2.jpg\",\n",
    "        \"alternatives\": [\n",
    "            \"https://backup.com/image2.jpg\"\n",
    "        ]\n",
    "    }\n",
    "]\n"
   ]
  },
  {
   "cell_type": "markdown",
   "metadata": {},
   "source": [
    "### Extensions: Integraton mit der Twitter API oder anderen Bildquellen \n",
    "\n",
    "Schritte:\n",
    "1. Twitter API Zugang einrichten: \n",
    "    * Ich hab kein ENtwicler Konto und generiere API Schlüsse\n",
    "    * Twitter API v2 für Bildabfragen \n",
    "2. Bild-Alternativen suchen:\n",
    "    * Verwende die API, um Tweets mit ähnlichen Inhalten (z.b. Hashtags oder benutzerdefinierte Suchbegriffen zu durchsuchen )\n",
    "3. Alternative Bildquellem:\n",
    "    * Nutzen andre bildplattformen wie flickr oder unsplash (mit deren API )"
   ]
  },
  {
   "cell_type": "code",
   "execution_count": null,
   "metadata": {},
   "outputs": [],
   "source": [
    "import tweepy\n",
    "import logging\n",
    "\n",
    "# Twitter API-Schlüssel\n",
    "API_KEY = 'DEIN_API_KEY'\n",
    "API_SECRET = 'DEIN_API_SECRET'\n",
    "ACCESS_TOKEN = 'DEIN_ACCESS_TOKEN'\n",
    "ACCESS_TOKEN_SECRET = 'DEIN_ACCESS_TOKEN_SECRET'\n",
    "\n",
    "# Twitter API einrichten\n",
    "def setup_twitter_api():\n",
    "    auth = tweepy.OAuth1UserHandler(API_KEY, API_SECRET, ACCESS_TOKEN, ACCESS_TOKEN_SECRET)\n",
    "    return tweepy.API(auth)\n",
    "\n",
    "def search_alternative_images(api, query):\n",
    "    \"\"\"Suche alternative Bilder zu einem defekten Link.\"\"\"\n",
    "    try:\n",
    "        tweets = api.search_tweets(q=query, count=10, tweet_mode='extended')\n",
    "        alternatives = []\n",
    "        for tweet in tweets:\n",
    "            media = tweet.entities.get('media', [])\n",
    "            for item in media:\n",
    "                if item['type'] == 'photo':\n",
    "                    alternatives.append(item['media_url_https'])\n",
    "        return alternatives\n",
    "    except Exception as e:\n",
    "        logging.error(f\"Fehler bei der Twitter-Suche: {e}\")\n",
    "        return []\n",
    "\n",
    "# Beispielverwendung\n",
    "if __name__ == \"__main__\":\n",
    "    api = setup_twitter_api()\n",
    "    broken_link = \"https://twitter.com/example/image1.jpg\"\n",
    "    query = \"relevant hashtag or keywords\"\n",
    "    alternatives = search_alternative_images(api, query)\n",
    "    print(\"Gefundene Alternativen:\", alternatives)\n"
   ]
  },
  {
   "cell_type": "code",
   "execution_count": null,
   "metadata": {},
   "outputs": [],
   "source": [
    "import logging\n",
    "\n",
    "# Logging konfigurieren\n",
    "logging.basicConfig(\n",
    "    filename='image_link_checker.log',\n",
    "    level=logging.INFO,\n",
    "    format='%(asctime)s - %(levelname)s - %(message)s'\n",
    ")\n",
    "\n",
    "def log_broken_link(link):\n",
    "    \"\"\"Logge einen defekten Link.\"\"\"\n",
    "    logging.warning(f\"Defekter Link gefunden: {link}\")\n",
    "\n",
    "def log_replacement(old_link, new_link):\n",
    "    \"\"\"Logge die Ersetzung eines defekten Links.\"\"\"\n",
    "    logging.info(f\"Link ersetzt: {old_link} -> {new_link}\")\n",
    "\n",
    "def log_error(error_message):\n",
    "    \"\"\"Logge Fehler.\"\"\"\n",
    "    logging.error(f\"Fehler: {error_message}\")\n",
    "\n",
    "# Beispielverwendung\n",
    "if __name__ == \"__main__\":\n",
    "    log_broken_link(\"https://twitter.com/example/image1.jpg\")\n",
    "    log_replacement(\"https://twitter.com/example/image1.jpg\", \"https://backup.com/image1.jpg\")\n",
    "    log_error(\"Keine alternativen Links gefunden.\")\n"
   ]
  }
 ],
 "metadata": {
  "language_info": {
   "name": "python"
  }
 },
 "nbformat": 4,
 "nbformat_minor": 2
}
